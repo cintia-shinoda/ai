{
 "cells": [
  {
   "cell_type": "markdown",
   "metadata": {},
   "source": [
    "# CD04 - Deep Learning - Aula 1"
   ]
  },
  {
   "cell_type": "markdown",
   "metadata": {},
   "source": [
    "https://www.youtube.com/live/vL1DtswnwS4?si=8JjL9SEPEi_o9BIP"
   ]
  },
  {
   "cell_type": "markdown",
   "metadata": {},
   "source": [
    "## RNA (Redes Neurais Artificiais)\n",
    "- neurônio (perceptron)\n",
    "\n",
    "### Perceptron\n",
    "- aceita um conjunto de entradas ($x_i$)\n",
    "- possui um bias ($b$)\n",
    "- possui um conjunto de pesos ($$)\n",
    "\n",
    "### Camadas de uma RNA\n",
    "- Input Layer (Camada de Entrada)\n",
    "- Hidden Layer (Camada Oculta)\n",
    "- Output Layer (Camada de Saída)"
   ]
  },
  {
   "cell_type": "markdown",
   "metadata": {},
   "source": []
  }
 ],
 "metadata": {
  "language_info": {
   "name": "python"
  }
 },
 "nbformat": 4,
 "nbformat_minor": 2
}
